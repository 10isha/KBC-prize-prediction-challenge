{
  "nbformat": 4,
  "nbformat_minor": 0,
  "metadata": {
    "colab": {
      "provenance": [],
      "authorship_tag": "ABX9TyOQ1zohvxkY3+u2NpXPz6S9",
      "include_colab_link": true
    },
    "kernelspec": {
      "name": "python3",
      "display_name": "Python 3"
    },
    "language_info": {
      "name": "python"
    }
  },
  "cells": [
    {
      "cell_type": "markdown",
      "metadata": {
        "id": "view-in-github",
        "colab_type": "text"
      },
      "source": [
        "<a href=\"https://colab.research.google.com/github/10isha/KBC-prize-prediction-challenge/blob/main/KBC_Prize_Prediction_Kaggle_Challenge.ipynb\" target=\"_parent\"><img src=\"https://colab.research.google.com/assets/colab-badge.svg\" alt=\"Open In Colab\"/></a>"
      ]
    },
    {
      "cell_type": "code",
      "source": [
        "# This Python 3 environment comes with many helpful analytics libraries installed\n",
        "# It is defined by the kaggle/python Docker image: https://github.com/kaggle/docker-python\n",
        "# For example, here's several helpful packages to load\n",
        "\n",
        "import numpy as np # linear algebra\n",
        "import pandas as pd # data processing, CSV file I/O (e.g. pd.read_csv)\n",
        "\n",
        "# Input data files are available in the read-only \"../input/\" directory\n",
        "# For example, running this (by clicking run or pressing Shift+Enter) will list all files under the input directory\n",
        "\n",
        "import os\n",
        "for dirname, _, filenames in os.walk('/kaggle/input'):\n",
        "    for filename in filenames:\n",
        "        print(os.path.join(dirname, filename))\n",
        "\n",
        "# You can write up to 20GB to the current directory (/kaggle/working/) that gets preserved as output when you create a version using \"Save & Run All\" \n",
        "# You can also write temporary files to /kaggle/temp/, but they won't be saved outside of the current session"
      ],
      "metadata": {
        "id": "bS4Bxe0OzoqL"
      },
      "execution_count": null,
      "outputs": []
    },
    {
      "cell_type": "markdown",
      "source": [
        "Importing Training Data Set"
      ],
      "metadata": {
        "id": "qNjfozYIr30Q"
      }
    },
    {
      "cell_type": "code",
      "source": [
        "train_data = pd.read_csv(\"/kaggle/input/kbc-prize-prediction-challenge/train.csv\")\n",
        "train_data.head()"
      ],
      "metadata": {
        "id": "OkEFmBHllaLS"
      },
      "execution_count": null,
      "outputs": []
    },
    {
      "cell_type": "markdown",
      "source": [
        "Importing Test Data Set"
      ],
      "metadata": {
        "id": "oFdW5jhKr7CJ"
      }
    },
    {
      "cell_type": "code",
      "source": [
        "test_data = pd.read_csv(\"/kaggle/input/kbc-prize-prediction-challenge/test.csv\")\n",
        "test_data.head()"
      ],
      "metadata": {
        "id": "7bj-cqLDlaZO"
      },
      "execution_count": null,
      "outputs": []
    },
    {
      "cell_type": "code",
      "source": [
        "train_data.isnull().any()"
      ],
      "metadata": {
        "id": "tksfyyGAl8K4"
      },
      "execution_count": null,
      "outputs": []
    },
    {
      "cell_type": "code",
      "source": [
        "train_data.isnull().sum()"
      ],
      "metadata": {
        "id": "wiaxA3Qgl8cc"
      },
      "execution_count": null,
      "outputs": []
    },
    {
      "cell_type": "code",
      "source": [
        "train_data.columns"
      ],
      "metadata": {
        "id": "-3YHR-VipZo1"
      },
      "execution_count": null,
      "outputs": []
    },
    {
      "cell_type": "code",
      "source": [
        "train_data = train_data.dropna()\n",
        "train_data.isnull().sum()\n"
      ],
      "metadata": {
        "id": "f0fPmKQWmJGS"
      },
      "execution_count": null,
      "outputs": []
    },
    {
      "cell_type": "markdown",
      "source": [
        "Removing Punctuation from Text"
      ],
      "metadata": {
        "id": "GUHjgkCqsBMz"
      }
    },
    {
      "cell_type": "code",
      "source": [
        "import string \n",
        "string.punctuation\n",
        "\n",
        "def remove_punctuation(text):\n",
        "    punctuationfree = \"\".join([i for i in text if i not in string.punctuation])\n",
        "    return punctuationfree\n",
        "\n",
        "train_data['clean_msg'] = train_data['Question'].apply(lambda x : remove_punctuation(x))\n",
        "test_data['clean_msg'] = test_data['Question'].apply(lambda x : remove_punctuation(x))\n",
        "train_data.head()"
      ],
      "metadata": {
        "id": "12EUY_aqmJOO"
      },
      "execution_count": null,
      "outputs": []
    },
    {
      "cell_type": "markdown",
      "source": [
        "Tokenization"
      ],
      "metadata": {
        "id": "vNjOtozksFl-"
      }
    },
    {
      "cell_type": "code",
      "source": [
        "import nltk\n",
        "def tokenization(text):\n",
        "    tokens = nltk.word_tokenize(text)\n",
        "    return tokens \n",
        "train_data['msg_tokenized']= train_data['clean_msg'].apply(lambda x : tokenization(x))\n",
        "test_data['msg_tokenized']= test_data['clean_msg'].apply(lambda x : tokenization(x))\n",
        "train_data.head()"
      ],
      "metadata": {
        "id": "C5shFc63mJUY"
      },
      "execution_count": null,
      "outputs": []
    },
    {
      "cell_type": "markdown",
      "source": [
        "Removal of Stop Words from Text"
      ],
      "metadata": {
        "id": "g9e1eLqGsNMH"
      }
    },
    {
      "cell_type": "code",
      "source": [
        "import nltk\n",
        "stopwords = nltk.corpus.stopwords.words('english')\n",
        "def remove_stopwords(text):\n",
        "    output = [i for i in text if i not in stopwords]\n",
        "    return output\n",
        "train_data['no_stopwords'] = train_data['msg_tokenized'].apply(lambda x: remove_stopwords(x))\n",
        "test_data['no_stopwords'] = test_data['msg_tokenized'].apply(lambda x: remove_stopwords(x))\n",
        "stopwords\n",
        "train_data.head()"
      ],
      "metadata": {
        "id": "aLq4wmAZqNy0"
      },
      "execution_count": null,
      "outputs": []
    },
    {
      "cell_type": "markdown",
      "source": [
        "Lemmatization"
      ],
      "metadata": {
        "id": "h9TjJokqsRHr"
      }
    },
    {
      "cell_type": "code",
      "source": [
        "import nltk\n",
        "nltk.download('wordnet')\n",
        "from nltk.stem import WordNetLemmatizer\n",
        "lemm = WordNetLemmatizer()\n",
        "def lemmatizer(text):\n",
        "    lemm_text = [lemm.lemmatize(word) for word in text]\n",
        "    return lemm_text\n",
        "train_data['FinalTxt'] = train_data['no_stopwords'].apply(lambda x : lemmatizer(x))\n",
        "test_data['FinalTxt'] = test_data['no_stopwords'].apply(lambda x : lemmatizer(x))\n",
        "train_data.head()"
      ],
      "metadata": {
        "id": "2iXhSO5xmJaY"
      },
      "execution_count": null,
      "outputs": []
    },
    {
      "cell_type": "markdown",
      "source": [
        "Applying TF/IDF"
      ],
      "metadata": {
        "id": "pfE0QWPWsUgz"
      }
    },
    {
      "cell_type": "code",
      "source": [
        "from sklearn.feature_extraction.text import TfidfVectorizer\n",
        "tf_idf = TfidfVectorizer()\n",
        "X= tf_idf.fit_transform(train_data['FinalTxt'].apply(lambda x: ''.join(x)))\n",
        "X = tf_idf.transform(train_data['FinalTxt'].apply(lambda x: ''.join(x)))\n",
        "print(\"n_samples: %d, n_features: %d\" % X.shape)"
      ],
      "metadata": {
        "id": "Sac65KibmJe5"
      },
      "execution_count": null,
      "outputs": []
    },
    {
      "cell_type": "code",
      "source": [
        "X_test = tf_idf.transform(test_data['FinalTxt'].apply(lambda x : ''.join(x)))\n",
        "print(\"n_samples: %d, n_features: %d\" % X_test.shape)"
      ],
      "metadata": {
        "id": "Ujt1JigEnvHT"
      },
      "execution_count": null,
      "outputs": []
    },
    {
      "cell_type": "code",
      "source": [
        "y= train_data['Prize']\n",
        "y.head()"
      ],
      "metadata": {
        "id": "w5DIHZS_nvTE"
      },
      "execution_count": null,
      "outputs": []
    },
    {
      "cell_type": "code",
      "source": [
        "from sklearn.model_selection import train_test_split\n",
        "X_train, X_val, y_train, y_val = train_test_split(X, y, test_size = 0.50, random_state = 0)"
      ],
      "metadata": {
        "id": "Rv52E2l7nvbY"
      },
      "execution_count": null,
      "outputs": []
    },
    {
      "cell_type": "code",
      "source": [
        "from sklearn.naive_bayes import MultinomialNB\n",
        "Prize_detect_model = MultinomialNB().fit(X_train, y_train)"
      ],
      "metadata": {
        "id": "wZBiu903oCKD"
      },
      "execution_count": null,
      "outputs": []
    },
    {
      "cell_type": "code",
      "source": [
        "X_pred=Prize_detect_model.predict(X_test)"
      ],
      "metadata": {
        "id": "JvH73Gv1oCSd"
      },
      "execution_count": null,
      "outputs": []
    },
    {
      "cell_type": "code",
      "source": [
        "output = pd.DataFrame({'Id': test_data.Id,\n",
        "                       'Prize':X_pred})\n",
        "output.to_csv('submission.csv', index=False)"
      ],
      "metadata": {
        "id": "t8OqMeucoCZu"
      },
      "execution_count": null,
      "outputs": []
    },
    {
      "cell_type": "code",
      "source": [
        "print(output)"
      ],
      "metadata": {
        "id": "TKqqCT7boQgT"
      },
      "execution_count": null,
      "outputs": []
    }
  ]
}